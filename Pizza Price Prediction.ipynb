{
 "cells": [
  {
   "cell_type": "code",
   "execution_count": 87,
   "id": "e773673c",
   "metadata": {},
   "outputs": [],
   "source": [
    "import numpy as np\n",
    "import pandas as pd\n",
    "from sklearn.preprocessing import LabelEncoder\n",
    "from sklearn.model_selection import train_test_split"
   ]
  },
  {
   "cell_type": "code",
   "execution_count": 110,
   "id": "9083f5e1",
   "metadata": {},
   "outputs": [],
   "source": [
    "import evalml\n",
    "from evalml.automl import AutoMLSearch"
   ]
  },
  {
   "cell_type": "code",
   "execution_count": 88,
   "id": "4796e544",
   "metadata": {},
   "outputs": [],
   "source": [
    "df = pd.read_csv(\"pizza_v2.csv\")"
   ]
  },
  {
   "cell_type": "code",
   "execution_count": 90,
   "id": "38a6d459",
   "metadata": {},
   "outputs": [
    {
     "data": {
      "text/plain": [
       "company            0\n",
       "price_rupiah       0\n",
       "diameter           0\n",
       "topping            0\n",
       "variant            0\n",
       "size               0\n",
       "extra_sauce        0\n",
       "extra_cheese       0\n",
       "extra_mushrooms    0\n",
       "dtype: int64"
      ]
     },
     "execution_count": 90,
     "metadata": {},
     "output_type": "execute_result"
    }
   ],
   "source": [
    "df.isnull().sum()"
   ]
  },
  {
   "cell_type": "code",
   "execution_count": 91,
   "id": "dc166585",
   "metadata": {},
   "outputs": [
    {
     "data": {
      "text/plain": [
       "(129, 9)"
      ]
     },
     "execution_count": 91,
     "metadata": {},
     "output_type": "execute_result"
    }
   ],
   "source": [
    "df.shape"
   ]
  },
  {
   "cell_type": "code",
   "execution_count": 92,
   "id": "ee0f445c",
   "metadata": {},
   "outputs": [],
   "source": [
    "df[\"price_rupiah\"] = df[\"price_rupiah\"].str.replace(\",\", \"\")"
   ]
  },
  {
   "cell_type": "code",
   "execution_count": 93,
   "id": "2d226736",
   "metadata": {},
   "outputs": [],
   "source": [
    "df[\"price_rupiah\"] = df[\"price_rupiah\"].str.replace(\"Rp\", \"\")"
   ]
  },
  {
   "cell_type": "code",
   "execution_count": 94,
   "id": "f13954ee",
   "metadata": {},
   "outputs": [],
   "source": [
    "df[\"price_rupiah\"] = df[\"price_rupiah\"].str.replace(\"000\", \"\")"
   ]
  },
  {
   "cell_type": "code",
   "execution_count": 95,
   "id": "b5a6432a",
   "metadata": {},
   "outputs": [],
   "source": [
    "def int_rupi(text):\n",
    "    return int(text)"
   ]
  },
  {
   "cell_type": "code",
   "execution_count": 96,
   "id": "d8c01001",
   "metadata": {},
   "outputs": [],
   "source": [
    "df[\"price_rupiah\"] = df[\"price_rupiah\"].apply(int_rupi)"
   ]
  },
  {
   "cell_type": "code",
   "execution_count": 98,
   "id": "c257e924",
   "metadata": {},
   "outputs": [],
   "source": [
    "df[\"diameter\"] = df[\"diameter\"].str.replace(\" inch\", \"\")\n",
    "df[\"diameter\"] = df[\"diameter\"].str.replace(\"\\n\", \"\")"
   ]
  },
  {
   "cell_type": "code",
   "execution_count": 100,
   "id": "9ca0b838",
   "metadata": {},
   "outputs": [],
   "source": [
    "def float_diameter(text):\n",
    "    return float(text)"
   ]
  },
  {
   "cell_type": "code",
   "execution_count": 101,
   "id": "f5203248",
   "metadata": {},
   "outputs": [],
   "source": [
    "df[\"diameter\"] = df[\"diameter\"].apply(float_diameter)"
   ]
  },
  {
   "cell_type": "code",
   "execution_count": 103,
   "id": "49df9311",
   "metadata": {},
   "outputs": [],
   "source": [
    "cols = [\"topping\", \"variant\", \"size\", \"extra_sauce\", \"extra_cheese\", \"extra_mushrooms\"]"
   ]
  },
  {
   "cell_type": "code",
   "execution_count": 104,
   "id": "bf3a3996",
   "metadata": {},
   "outputs": [],
   "source": [
    "def label_encoder(column):\n",
    "    le = LabelEncoder().fit(column)\n",
    "    print(column.name, le.classes_)\n",
    "    return le.transform(column)"
   ]
  },
  {
   "cell_type": "code",
   "execution_count": 105,
   "id": "1099ed83",
   "metadata": {},
   "outputs": [
    {
     "name": "stdout",
     "output_type": "stream",
     "text": [
      "topping ['beef' 'black_papper' 'chicken' 'meat' 'mozzarella' 'mushrooms' 'onion'\n",
      " 'papperoni' 'sausage' 'smoked_beef' 'tuna' 'vegetables']\n",
      "variant ['BBQ_meat_fiesta' 'BBQ_sausage' 'american_classic' 'american_favorite'\n",
      " 'classic' 'crunchy' 'double_decker' 'double_mix' 'double_signature'\n",
      " 'extravaganza' 'gournet_greek' 'italian_veggie' 'meat_eater'\n",
      " 'meat_lovers' 'neptune_tuna' 'new_york' 'spicy tuna' 'spicy_tuna'\n",
      " 'super_supreme' 'thai_veggie']\n",
      "size ['XL' 'jumbo' 'large' 'medium' 'reguler' 'small']\n",
      "extra_sauce ['no' 'yes']\n",
      "extra_cheese ['no' 'yes']\n",
      "extra_mushrooms ['no' 'yes']\n"
     ]
    }
   ],
   "source": [
    "for col in cols:\n",
    "    df[col] = label_encoder(df[col])"
   ]
  },
  {
   "cell_type": "code",
   "execution_count": 107,
   "id": "3ff9b687",
   "metadata": {},
   "outputs": [],
   "source": [
    "X = df.drop([\"price_rupiah\"], axis=1)\n",
    "y = df[\"price_rupiah\"]"
   ]
  },
  {
   "cell_type": "code",
   "execution_count": 109,
   "id": "69d90ff7",
   "metadata": {},
   "outputs": [],
   "source": [
    "X_train, X_test, y_train, y_test = evalml.preprocessing.split_data(X, y, problem_type=\"regression\")"
   ]
  },
  {
   "cell_type": "code",
   "execution_count": 111,
   "id": "2d8b2bb8",
   "metadata": {},
   "outputs": [],
   "source": [
    "automl = AutoMLSearch(X_train=X_train, y_train=y_train, problem_type=\"regression\")"
   ]
  },
  {
   "cell_type": "code",
   "execution_count": 112,
   "id": "565b1cb3",
   "metadata": {},
   "outputs": [
    {
     "name": "stderr",
     "output_type": "stream",
     "text": [
      "numpy.ufunc size changed, may indicate binary incompatibility. Expected 216 from C header, got 232 from PyObject\n",
      "\tHigh coefficient of variation (cv >= 0.5) within cross validation scores.\n",
      "\tRandom Forest Regressor w/ Imputer + One Hot Encoder may not perform as estimated on unseen data.\n",
      "\tHigh coefficient of variation (cv >= 0.5) within cross validation scores.\n",
      "\tRandom Forest Regressor w/ Imputer + One Hot Encoder + RF Regressor Select From Model may not perform as estimated on unseen data.\n",
      "\tHigh coefficient of variation (cv >= 0.5) within cross validation scores.\n",
      "\tDecision Tree Regressor w/ Select Columns By Type Transformer + Imputer + Select Columns Transformer + Select Columns Transformer + Imputer + One Hot Encoder may not perform as estimated on unseen data.\n",
      "\tHigh coefficient of variation (cv >= 0.5) within cross validation scores.\n",
      "\tExtra Trees Regressor w/ Select Columns By Type Transformer + Imputer + Select Columns Transformer + Select Columns Transformer + Imputer + One Hot Encoder may not perform as estimated on unseen data.\n",
      "\tHigh coefficient of variation (cv >= 0.5) within cross validation scores.\n",
      "\tXGBoost Regressor w/ Select Columns By Type Transformer + Imputer + Select Columns Transformer + Select Columns Transformer + Imputer + One Hot Encoder may not perform as estimated on unseen data.\n",
      "\tHigh coefficient of variation (cv >= 0.5) within cross validation scores.\n",
      "\tLightGBM Regressor w/ Select Columns By Type Transformer + Imputer + Select Columns Transformer + Select Columns Transformer + Imputer + One Hot Encoder may not perform as estimated on unseen data.\n",
      "Objective did not converge. You might want to increase the number of iterations, check the scale of the features or consider increasing regularisation. Duality gap: 1.307e+10, tolerance: 3.138e+06\n",
      "Objective did not converge. You might want to increase the number of iterations, check the scale of the features or consider increasing regularisation. Duality gap: 1.325e+10, tolerance: 3.175e+06\n",
      "Objective did not converge. You might want to increase the number of iterations, check the scale of the features or consider increasing regularisation. Duality gap: 5.924e+08, tolerance: 1.573e+05\n",
      "\tHigh coefficient of variation (cv >= 0.5) within cross validation scores.\n",
      "\tElastic Net Regressor w/ Select Columns By Type Transformer + Imputer + Standard Scaler + Select Columns Transformer + Select Columns Transformer + Imputer + One Hot Encoder + Standard Scaler may not perform as estimated on unseen data.\n"
     ]
    },
    {
     "data": {
      "text/plain": [
       "{1: {'Random Forest Regressor w/ Imputer + One Hot Encoder': 0.27617478370666504,\n",
       "  'Total time of batch': 0.38944268226623535},\n",
       " 2: {'Random Forest Regressor w/ Imputer + One Hot Encoder + RF Regressor Select From Model': 0.31792211532592773,\n",
       "  'Total time of batch': 0.4376201629638672},\n",
       " 3: {'Decision Tree Regressor w/ Select Columns By Type Transformer + Imputer + Select Columns Transformer + Select Columns Transformer + Imputer + One Hot Encoder': 0.11572027206420898,\n",
       "  'Extra Trees Regressor w/ Select Columns By Type Transformer + Imputer + Select Columns Transformer + Select Columns Transformer + Imputer + One Hot Encoder': 0.2624850273132324,\n",
       "  'XGBoost Regressor w/ Select Columns By Type Transformer + Imputer + Select Columns Transformer + Select Columns Transformer + Imputer + One Hot Encoder': 0.29027318954467773,\n",
       "  'CatBoost Regressor w/ Select Columns By Type Transformer + Imputer + Select Columns Transformer + Select Columns Transformer + Imputer': 0.1862189769744873,\n",
       "  'LightGBM Regressor w/ Select Columns By Type Transformer + Imputer + Select Columns Transformer + Select Columns Transformer + Imputer + One Hot Encoder': 0.14818596839904785,\n",
       "  'Elastic Net Regressor w/ Select Columns By Type Transformer + Imputer + Standard Scaler + Select Columns Transformer + Select Columns Transformer + Imputer + One Hot Encoder + Standard Scaler': 0.1696329116821289,\n",
       "  'Total time of batch': 1.8893601894378662}}"
      ]
     },
     "execution_count": 112,
     "metadata": {},
     "output_type": "execute_result"
    }
   ],
   "source": [
    "automl.search()"
   ]
  },
  {
   "cell_type": "code",
   "execution_count": 113,
   "id": "e3d40116",
   "metadata": {},
   "outputs": [
    {
     "data": {
      "text/html": [
       "<div>\n",
       "<style scoped>\n",
       "    .dataframe tbody tr th:only-of-type {\n",
       "        vertical-align: middle;\n",
       "    }\n",
       "\n",
       "    .dataframe tbody tr th {\n",
       "        vertical-align: top;\n",
       "    }\n",
       "\n",
       "    .dataframe thead th {\n",
       "        text-align: right;\n",
       "    }\n",
       "</style>\n",
       "<table border=\"1\" class=\"dataframe\">\n",
       "  <thead>\n",
       "    <tr style=\"text-align: right;\">\n",
       "      <th></th>\n",
       "      <th>id</th>\n",
       "      <th>pipeline_name</th>\n",
       "      <th>search_order</th>\n",
       "      <th>ranking_score</th>\n",
       "      <th>mean_cv_score</th>\n",
       "      <th>standard_deviation_cv_score</th>\n",
       "      <th>percent_better_than_baseline</th>\n",
       "      <th>high_variance_cv</th>\n",
       "      <th>parameters</th>\n",
       "    </tr>\n",
       "  </thead>\n",
       "  <tbody>\n",
       "    <tr>\n",
       "      <th>0</th>\n",
       "      <td>6</td>\n",
       "      <td>CatBoost Regressor w/ Select Columns By Type T...</td>\n",
       "      <td>6</td>\n",
       "      <td>-0.323261</td>\n",
       "      <td>-0.323261</td>\n",
       "      <td>0.383174</td>\n",
       "      <td>15.668888</td>\n",
       "      <td>False</td>\n",
       "      <td>{'Numeric Pipeline - Select Columns By Type Tr...</td>\n",
       "    </tr>\n",
       "    <tr>\n",
       "      <th>1</th>\n",
       "      <td>0</td>\n",
       "      <td>Mean Baseline Regression Pipeline</td>\n",
       "      <td>0</td>\n",
       "      <td>-0.383323</td>\n",
       "      <td>-0.383323</td>\n",
       "      <td>0.418643</td>\n",
       "      <td>0.000000</td>\n",
       "      <td>False</td>\n",
       "      <td>{'Baseline Regressor': {'strategy': 'mean'}}</td>\n",
       "    </tr>\n",
       "    <tr>\n",
       "      <th>2</th>\n",
       "      <td>7</td>\n",
       "      <td>LightGBM Regressor w/ Select Columns By Type T...</td>\n",
       "      <td>7</td>\n",
       "      <td>-0.492210</td>\n",
       "      <td>-0.492210</td>\n",
       "      <td>0.642095</td>\n",
       "      <td>-28.406126</td>\n",
       "      <td>True</td>\n",
       "      <td>{'Numeric Pipeline - Select Columns By Type Tr...</td>\n",
       "    </tr>\n",
       "    <tr>\n",
       "      <th>3</th>\n",
       "      <td>1</td>\n",
       "      <td>Random Forest Regressor w/ Imputer + One Hot E...</td>\n",
       "      <td>1</td>\n",
       "      <td>-1.727918</td>\n",
       "      <td>-1.727918</td>\n",
       "      <td>1.996635</td>\n",
       "      <td>-350.773273</td>\n",
       "      <td>True</td>\n",
       "      <td>{'Imputer': {'categorical_impute_strategy': 'm...</td>\n",
       "    </tr>\n",
       "    <tr>\n",
       "      <th>4</th>\n",
       "      <td>8</td>\n",
       "      <td>Elastic Net Regressor w/ Select Columns By Typ...</td>\n",
       "      <td>8</td>\n",
       "      <td>-1.770648</td>\n",
       "      <td>-1.770648</td>\n",
       "      <td>1.691809</td>\n",
       "      <td>-361.920777</td>\n",
       "      <td>True</td>\n",
       "      <td>{'Numeric Pipeline - Select Columns By Type Tr...</td>\n",
       "    </tr>\n",
       "    <tr>\n",
       "      <th>5</th>\n",
       "      <td>2</td>\n",
       "      <td>Random Forest Regressor w/ Imputer + One Hot E...</td>\n",
       "      <td>2</td>\n",
       "      <td>-3.047527</td>\n",
       "      <td>-3.047527</td>\n",
       "      <td>3.293028</td>\n",
       "      <td>-695.028632</td>\n",
       "      <td>True</td>\n",
       "      <td>{'Imputer': {'categorical_impute_strategy': 'm...</td>\n",
       "    </tr>\n",
       "    <tr>\n",
       "      <th>6</th>\n",
       "      <td>5</td>\n",
       "      <td>XGBoost Regressor w/ Select Columns By Type Tr...</td>\n",
       "      <td>5</td>\n",
       "      <td>-4.664351</td>\n",
       "      <td>-4.664351</td>\n",
       "      <td>8.906980</td>\n",
       "      <td>-1116.819993</td>\n",
       "      <td>True</td>\n",
       "      <td>{'Numeric Pipeline - Select Columns By Type Tr...</td>\n",
       "    </tr>\n",
       "    <tr>\n",
       "      <th>7</th>\n",
       "      <td>4</td>\n",
       "      <td>Extra Trees Regressor w/ Select Columns By Typ...</td>\n",
       "      <td>4</td>\n",
       "      <td>-7.062258</td>\n",
       "      <td>-7.062258</td>\n",
       "      <td>8.637438</td>\n",
       "      <td>-1742.377820</td>\n",
       "      <td>True</td>\n",
       "      <td>{'Numeric Pipeline - Select Columns By Type Tr...</td>\n",
       "    </tr>\n",
       "    <tr>\n",
       "      <th>8</th>\n",
       "      <td>3</td>\n",
       "      <td>Decision Tree Regressor w/ Select Columns By T...</td>\n",
       "      <td>3</td>\n",
       "      <td>-9.899798</td>\n",
       "      <td>-9.899798</td>\n",
       "      <td>17.500026</td>\n",
       "      <td>-2482.625665</td>\n",
       "      <td>True</td>\n",
       "      <td>{'Numeric Pipeline - Select Columns By Type Tr...</td>\n",
       "    </tr>\n",
       "  </tbody>\n",
       "</table>\n",
       "</div>"
      ],
      "text/plain": [
       "   id                                      pipeline_name  search_order  \\\n",
       "0   6  CatBoost Regressor w/ Select Columns By Type T...             6   \n",
       "1   0                  Mean Baseline Regression Pipeline             0   \n",
       "2   7  LightGBM Regressor w/ Select Columns By Type T...             7   \n",
       "3   1  Random Forest Regressor w/ Imputer + One Hot E...             1   \n",
       "4   8  Elastic Net Regressor w/ Select Columns By Typ...             8   \n",
       "5   2  Random Forest Regressor w/ Imputer + One Hot E...             2   \n",
       "6   5  XGBoost Regressor w/ Select Columns By Type Tr...             5   \n",
       "7   4  Extra Trees Regressor w/ Select Columns By Typ...             4   \n",
       "8   3  Decision Tree Regressor w/ Select Columns By T...             3   \n",
       "\n",
       "   ranking_score  mean_cv_score  standard_deviation_cv_score  \\\n",
       "0      -0.323261      -0.323261                     0.383174   \n",
       "1      -0.383323      -0.383323                     0.418643   \n",
       "2      -0.492210      -0.492210                     0.642095   \n",
       "3      -1.727918      -1.727918                     1.996635   \n",
       "4      -1.770648      -1.770648                     1.691809   \n",
       "5      -3.047527      -3.047527                     3.293028   \n",
       "6      -4.664351      -4.664351                     8.906980   \n",
       "7      -7.062258      -7.062258                     8.637438   \n",
       "8      -9.899798      -9.899798                    17.500026   \n",
       "\n",
       "   percent_better_than_baseline  high_variance_cv  \\\n",
       "0                     15.668888             False   \n",
       "1                      0.000000             False   \n",
       "2                    -28.406126              True   \n",
       "3                   -350.773273              True   \n",
       "4                   -361.920777              True   \n",
       "5                   -695.028632              True   \n",
       "6                  -1116.819993              True   \n",
       "7                  -1742.377820              True   \n",
       "8                  -2482.625665              True   \n",
       "\n",
       "                                          parameters  \n",
       "0  {'Numeric Pipeline - Select Columns By Type Tr...  \n",
       "1       {'Baseline Regressor': {'strategy': 'mean'}}  \n",
       "2  {'Numeric Pipeline - Select Columns By Type Tr...  \n",
       "3  {'Imputer': {'categorical_impute_strategy': 'm...  \n",
       "4  {'Numeric Pipeline - Select Columns By Type Tr...  \n",
       "5  {'Imputer': {'categorical_impute_strategy': 'm...  \n",
       "6  {'Numeric Pipeline - Select Columns By Type Tr...  \n",
       "7  {'Numeric Pipeline - Select Columns By Type Tr...  \n",
       "8  {'Numeric Pipeline - Select Columns By Type Tr...  "
      ]
     },
     "execution_count": 113,
     "metadata": {},
     "output_type": "execute_result"
    }
   ],
   "source": [
    "automl.rankings"
   ]
  },
  {
   "cell_type": "code",
   "execution_count": 114,
   "id": "6df99042",
   "metadata": {},
   "outputs": [
    {
     "data": {
      "text/plain": [
       "pipeline = RegressionPipeline(component_graph={'Numeric Pipeline - Select Columns By Type Transformer': ['Select Columns By Type Transformer', 'X', 'y'], 'Numeric Pipeline - Imputer': ['Imputer', 'Numeric Pipeline - Select Columns By Type Transformer.x', 'y'], 'Numeric Pipeline - Select Columns Transformer': ['Select Columns Transformer', 'Numeric Pipeline - Imputer.x', 'y'], 'Categorical Pipeline - Select Columns Transformer': ['Select Columns Transformer', 'X', 'y'], 'Categorical Pipeline - Imputer': ['Imputer', 'Categorical Pipeline - Select Columns Transformer.x', 'y'], 'CatBoost Regressor': ['CatBoost Regressor', 'Numeric Pipeline - Select Columns Transformer.x', 'Categorical Pipeline - Imputer.x', 'y']}, parameters={'Numeric Pipeline - Select Columns By Type Transformer':{'column_types': ['category', 'EmailAddress', 'URL'], 'exclude': True}, 'Numeric Pipeline - Imputer':{'categorical_impute_strategy': 'most_frequent', 'numeric_impute_strategy': 'mean', 'boolean_impute_strategy': 'most_frequent', 'categorical_fill_value': None, 'numeric_fill_value': None, 'boolean_fill_value': None}, 'Numeric Pipeline - Select Columns Transformer':{'columns': ['diameter', 'topping', 'variant', 'size', 'extra_cheese']}, 'Categorical Pipeline - Select Columns Transformer':{'columns': ['company']}, 'Categorical Pipeline - Imputer':{'categorical_impute_strategy': 'most_frequent', 'numeric_impute_strategy': 'mean', 'boolean_impute_strategy': 'most_frequent', 'categorical_fill_value': None, 'numeric_fill_value': None, 'boolean_fill_value': None}, 'CatBoost Regressor':{'n_estimators': 10, 'eta': 0.03, 'max_depth': 6, 'bootstrap_type': None, 'silent': False, 'allow_writing_files': False, 'n_jobs': -1}}, random_seed=0)"
      ]
     },
     "execution_count": 114,
     "metadata": {},
     "output_type": "execute_result"
    }
   ],
   "source": [
    "automl.best_pipeline"
   ]
  },
  {
   "cell_type": "code",
   "execution_count": 115,
   "id": "57e2b67b",
   "metadata": {},
   "outputs": [],
   "source": [
    "pipe = automl.best_pipeline"
   ]
  },
  {
   "cell_type": "code",
   "execution_count": 116,
   "id": "4792f3b3",
   "metadata": {},
   "outputs": [
    {
     "name": "stdout",
     "output_type": "stream",
     "text": [
      "\n",
      "******************************************************************************************************************************************\n",
      "* CatBoost Regressor w/ Select Columns By Type Transformer + Imputer + Select Columns Transformer + Select Columns Transformer + Imputer *\n",
      "******************************************************************************************************************************************\n",
      "\n",
      "Problem Type: regression\n",
      "Model Family: CatBoost\n",
      "\n",
      "Pipeline Steps\n",
      "==============\n",
      "1. Select Columns By Type Transformer\n",
      "\t * column_types : ['category', 'EmailAddress', 'URL']\n",
      "\t * exclude : True\n",
      "2. Imputer\n",
      "\t * categorical_impute_strategy : most_frequent\n",
      "\t * numeric_impute_strategy : mean\n",
      "\t * boolean_impute_strategy : most_frequent\n",
      "\t * categorical_fill_value : None\n",
      "\t * numeric_fill_value : None\n",
      "\t * boolean_fill_value : None\n",
      "3. Select Columns Transformer\n",
      "\t * columns : ['diameter', 'topping', 'variant', 'size', 'extra_cheese']\n",
      "4. Select Columns Transformer\n",
      "\t * columns : ['company']\n",
      "5. Imputer\n",
      "\t * categorical_impute_strategy : most_frequent\n",
      "\t * numeric_impute_strategy : mean\n",
      "\t * boolean_impute_strategy : most_frequent\n",
      "\t * categorical_fill_value : None\n",
      "\t * numeric_fill_value : None\n",
      "\t * boolean_fill_value : None\n",
      "6. CatBoost Regressor\n",
      "\t * n_estimators : 10\n",
      "\t * eta : 0.03\n",
      "\t * max_depth : 6\n",
      "\t * bootstrap_type : None\n",
      "\t * silent : False\n",
      "\t * allow_writing_files : False\n",
      "\t * n_jobs : -1\n",
      "\n",
      "Training\n",
      "========\n",
      "Training for regression problems.\n",
      "Total training time (including CV): 0.2 seconds\n",
      "\n",
      "Cross Validation\n",
      "----------------\n",
      "                R2  ExpVariance   MaxError  MedianAE           MSE      MAE  Root Mean Squared Error # Training # Validation\n",
      "0           -0.159        0.053  18971.981  3439.308  34233409.434 4636.620                 5850.932         68           35\n",
      "1           -0.761       -0.006  18486.772  3690.057  27550293.798 4524.708                 5248.837         69           34\n",
      "2           -0.049       -0.001 125575.849   852.129 928350969.839 8214.291                30468.852         69           34\n",
      "mean        -0.323        0.015  54344.867  2660.498 330044891.024 5791.873                13856.207          -            -\n",
      "std          0.383        0.032  61688.317  1571.104 518159038.297 2098.622                14390.122          -            -\n",
      "coef of var -1.185        2.110      1.135     0.591         1.570    0.362                    1.039          -            -\n"
     ]
    }
   ],
   "source": [
    "automl.describe_pipeline(automl.rankings.iloc[0][\"id\"])"
   ]
  },
  {
   "cell_type": "code",
   "execution_count": 122,
   "id": "0f95e63e",
   "metadata": {},
   "outputs": [
    {
     "data": {
      "text/plain": [
       "OrderedDict([('MSE', 10458941.82064853), ('MAE', 3085.999996468896)])"
      ]
     },
     "execution_count": 122,
     "metadata": {},
     "output_type": "execute_result"
    }
   ],
   "source": [
    "pipe.score(X_test, y_test, objectives=[\"mse\", \"mae\"])"
   ]
  },
  {
   "cell_type": "code",
   "execution_count": null,
   "id": "6e4b63be",
   "metadata": {},
   "outputs": [],
   "source": []
  }
 ],
 "metadata": {
  "kernelspec": {
   "display_name": "Python 3 (ipykernel)",
   "language": "python",
   "name": "python3"
  },
  "language_info": {
   "codemirror_mode": {
    "name": "ipython",
    "version": 3
   },
   "file_extension": ".py",
   "mimetype": "text/x-python",
   "name": "python",
   "nbconvert_exporter": "python",
   "pygments_lexer": "ipython3",
   "version": "3.8.16"
  }
 },
 "nbformat": 4,
 "nbformat_minor": 5
}
